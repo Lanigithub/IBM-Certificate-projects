{
 "cells": [
  {
   "cell_type": "code",
   "execution_count": null,
   "metadata": {},
   "outputs": [],
   "source": [
    "#  numpy.arange\n",
    "#numpy.arange([start value, stop value), [step, ], dtype=None)\n",
    "#Return evenly spaced values within a given interval.\n",
    "\n",
    "#Values are generated within the half-open interval [start, stop) (in other words, the interval including start but excluding stop). For integer arguments the function is equivalent to the Python built-in range function, but returns an ndarray rather than a list.\n",
    "\n",
    "# When using a non-integer step, such as 0.1, the results will often not be consistent. It is better to use numpy.linspace for these cases."
   ]
  },
  {
   "cell_type": "code",
   "execution_count": null,
   "metadata": {},
   "outputs": [],
   "source": [
    "#Parameters:\t\n",
    "#start : number, optional\n",
    "#Start of interval. The interval includes this value. The default start value is 0.\n",
    "\n",
    "#stop : number\n",
    "#End of interval. The interval does not include this value, except in some cases where step is not an integer and floating point round-off affects the length of out.\n",
    "\n",
    "#step : number, optional\n",
    "#Spacing between values. For any output out, this is the distance between two adjacent values, out[i+1] - out[i]. The default step size is 1. If step is specified as a position argument, start must also be given.\n",
    "\n",
    "#dtype : dtype\n",
    "#The type of the output array. If dtype is not given, infer the data type from the other input arguments.\n",
    "\n",
    "#Returns:\t\n",
    "#arange : ndarray\n",
    "#Array of evenly spaced values.\n",
    "\n",
    "#For floating point arguments, the length of the result is ceil((stop - start)/step). Because of floating point overflow, this rule may result in the last element of out being greater than stop."
   ]
  },
  {
   "cell_type": "code",
   "execution_count": 2,
   "metadata": {},
   "outputs": [
    {
     "data": {
      "text/plain": [
       "array([0, 1, 2])"
      ]
     },
     "execution_count": 2,
     "metadata": {},
     "output_type": "execute_result"
    }
   ],
   "source": [
    "import numpy as np\n",
    "# Example of np.arrange( )\n",
    "np.arange(3)  # same as np.arrange(0,3,1) # Start value default 0, step value deault 1\n"
   ]
  },
  {
   "cell_type": "code",
   "execution_count": 4,
   "metadata": {},
   "outputs": [
    {
     "data": {
      "text/plain": [
       "array([0., 1., 2.])"
      ]
     },
     "execution_count": 4,
     "metadata": {},
     "output_type": "execute_result"
    }
   ],
   "source": [
    "\n",
    "np.arange(3.0)  # np.arrange( 0.0, 3.0, 1)\n"
   ]
  },
  {
   "cell_type": "code",
   "execution_count": 5,
   "metadata": {},
   "outputs": [
    {
     "data": {
      "text/plain": [
       "array([3, 4, 5, 6])"
      ]
     },
     "execution_count": 5,
     "metadata": {},
     "output_type": "execute_result"
    }
   ],
   "source": [
    "\n",
    "np.arange(3,7) # np.arrange(3,7,1)\n"
   ]
  },
  {
   "cell_type": "code",
   "execution_count": 7,
   "metadata": {},
   "outputs": [
    {
     "data": {
      "text/plain": [
       "array([3, 5])"
      ]
     },
     "execution_count": 7,
     "metadata": {},
     "output_type": "execute_result"
    }
   ],
   "source": [
    "\n",
    "np.arange(3,7,2)  # start value is 3, end value is 7 and step value is 2 \n",
    "# array([3, 5])"
   ]
  },
  {
   "cell_type": "code",
   "execution_count": null,
   "metadata": {},
   "outputs": [],
   "source": []
  }
 ],
 "metadata": {
  "kernelspec": {
   "display_name": "Python 3",
   "language": "python",
   "name": "python3"
  },
  "language_info": {
   "codemirror_mode": {
    "name": "ipython",
    "version": 3
   },
   "file_extension": ".py",
   "mimetype": "text/x-python",
   "name": "python",
   "nbconvert_exporter": "python",
   "pygments_lexer": "ipython3",
   "version": "3.7.1"
  }
 },
 "nbformat": 4,
 "nbformat_minor": 2
}
